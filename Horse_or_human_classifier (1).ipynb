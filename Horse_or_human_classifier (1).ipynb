{
  "nbformat": 4,
  "nbformat_minor": 0,
  "metadata": {
    "colab": {
      "provenance": [],
      "gpuType": "T4"
    },
    "kernelspec": {
      "name": "python3",
      "display_name": "Python 3"
    },
    "language_info": {
      "name": "python"
    },
    "accelerator": "GPU"
  },
  "cells": [
    {
      "cell_type": "markdown",
      "source": [
        "# CNN IMAGE CLASSIFICATION HORSE OR HUMAN"
      ],
      "metadata": {
        "id": "6DTsLuz9S3tv"
      }
    },
    {
      "cell_type": "markdown",
      "source": [
        "## Download dataset\n",
        "\n",
        "Let's download the training and validation datasets."
      ],
      "metadata": {
        "id": "z0y-rQRXS3w2"
      }
    },
    {
      "cell_type": "code",
      "execution_count": 2,
      "metadata": {
        "id": "xEbnmMa1oTPV",
        "colab": {
          "base_uri": "https://localhost:8080/"
        },
        "outputId": "28c68536-be5a-4c5a-8f50-0a77bce40915"
      },
      "outputs": [
        {
          "output_type": "stream",
          "name": "stdout",
          "text": [
            "--2023-08-24 10:03:12--  https://storage.googleapis.com/tensorflow-1-public/course2/week3/horse-or-human.zip\n",
            "Resolving storage.googleapis.com (storage.googleapis.com)... 108.177.119.128, 108.177.126.128, 108.177.127.128, ...\n",
            "Connecting to storage.googleapis.com (storage.googleapis.com)|108.177.119.128|:443... connected.\n",
            "HTTP request sent, awaiting response... 200 OK\n",
            "Length: 149574867 (143M) [application/zip]\n",
            "Saving to: ‘horse-or-human.zip’\n",
            "\n",
            "horse-or-human.zip  100%[===================>] 142.65M  33.4MB/s    in 4.9s    \n",
            "\n",
            "2023-08-24 10:03:17 (29.4 MB/s) - ‘horse-or-human.zip’ saved [149574867/149574867]\n",
            "\n"
          ]
        }
      ],
      "source": [
        "# Traing dataset\n",
        "!wget https://storage.googleapis.com/tensorflow-1-public/course2/week3/horse-or-human.zip"
      ]
    },
    {
      "cell_type": "code",
      "source": [
        "# Validation dataset\n",
        "!wget https://storage.googleapis.com/tensorflow-1-public/course2/week3/validation-horse-or-human.zip"
      ],
      "metadata": {
        "id": "UibkkY7KWhBx",
        "outputId": "c73f0b47-31c6-4d71-e073-e3042d5acc7d",
        "colab": {
          "base_uri": "https://localhost:8080/"
        }
      },
      "execution_count": 3,
      "outputs": [
        {
          "output_type": "stream",
          "name": "stdout",
          "text": [
            "--2023-08-24 10:03:17--  https://storage.googleapis.com/tensorflow-1-public/course2/week3/validation-horse-or-human.zip\n",
            "Resolving storage.googleapis.com (storage.googleapis.com)... 108.177.119.128, 108.177.126.128, 108.177.127.128, ...\n",
            "Connecting to storage.googleapis.com (storage.googleapis.com)|108.177.119.128|:443... connected.\n",
            "HTTP request sent, awaiting response... 200 OK\n",
            "Length: 11480187 (11M) [application/zip]\n",
            "Saving to: ‘validation-horse-or-human.zip’\n",
            "\n",
            "validation-horse-or 100%[===================>]  10.95M  11.7MB/s    in 0.9s    \n",
            "\n",
            "2023-08-24 10:03:18 (11.7 MB/s) - ‘validation-horse-or-human.zip’ saved [11480187/11480187]\n",
            "\n"
          ]
        }
      ]
    },
    {
      "cell_type": "markdown",
      "source": [
        "### Unzipping the dataset:"
      ],
      "metadata": {
        "id": "Ws4d_17mWrwQ"
      }
    },
    {
      "cell_type": "code",
      "source": [
        "import zipfile\n",
        "\n",
        "# Unzip training dataset\n",
        "local_zip = './horse-or-human.zip'\n",
        "zip_ref = zipfile.ZipFile(local_zip,'r')\n",
        "zip_ref.extractall('./horse-or-human')\n",
        "\n",
        "# Unzip validation dataset\n",
        "local_zip = './validation-horse-or-human.zip'\n",
        "zip_ref = zipfile.ZipFile(local_zip,'r')\n",
        "zip_ref.extractall('./validation-horse-or-human')"
      ],
      "metadata": {
        "id": "AJ9CjRUaWnb8"
      },
      "execution_count": 4,
      "outputs": []
    },
    {
      "cell_type": "markdown",
      "source": [
        "Now, define the directories containing the images:"
      ],
      "metadata": {
        "id": "nCmxj2Y_Zhsb"
      }
    },
    {
      "cell_type": "code",
      "source": [
        "import os\n",
        "\n",
        "# Directory with training horse pictures\n",
        "train_horse_dir = os.path.join('./horse-or-human/horses')\n",
        "\n",
        "# Directory with training human pictures\n",
        "train_human_dir = os.path.join('./horse-or-human/humans')\n",
        "\n",
        "# Direcctory with validation horse pictures\n",
        "val_horse_dir = os.path.join('./validation-horse-or-human/horses')\n",
        "\n",
        "# Directory with validation human pictures\n",
        "val_human_dir = os.path.join('./validation-horse-or-human/humans')"
      ],
      "metadata": {
        "id": "EsH9PGUzWnW1"
      },
      "execution_count": 5,
      "outputs": []
    },
    {
      "cell_type": "code",
      "source": [
        "train_horse_names = os.listdir(train_horse_dir)\n",
        "print(\"Train dataset horses :\",train_horse_names[:10])\n",
        "\n",
        "train_human_names = os.listdir(train_human_dir)\n",
        "print(\"Train dataset humans :\",train_human_names[:10])\n",
        "\n",
        "val_horse_names = os.listdir(val_horse_dir)\n",
        "print(\"validation dataset horses :\",val_horse_names[:10])\n",
        "\n",
        "val_human_names = os.listdir(val_human_dir)\n",
        "print(\"Validation dataset humans :\",val_human_names[:10])"
      ],
      "metadata": {
        "id": "VEtMzI98WnTw",
        "colab": {
          "base_uri": "https://localhost:8080/"
        },
        "outputId": "fa527327-31ba-40d9-a940-6bb669a88cb3"
      },
      "execution_count": 6,
      "outputs": [
        {
          "output_type": "stream",
          "name": "stdout",
          "text": [
            "Train dataset horses : ['horse07-7.png', 'horse28-4.png', 'horse19-4.png', 'horse50-2.png', 'horse04-5.png', 'horse47-0.png', 'horse02-3.png', 'horse07-6.png', 'horse20-9.png', 'horse29-1.png']\n",
            "Train dataset humans : ['human06-13.png', 'human02-18.png', 'human13-00.png', 'human09-24.png', 'human09-17.png', 'human07-07.png', 'human10-06.png', 'human05-22.png', 'human05-00.png', 'human06-16.png']\n",
            "validation dataset horses : ['horse3-521.png', 'horse5-100.png', 'horse6-004.png', 'horse5-458.png', 'horse5-550.png', 'horse2-136.png', 'horse4-588.png', 'horse5-259.png', 'horse3-469.png', 'horse6-161.png']\n",
            "Validation dataset humans : ['valhuman03-23.png', 'valhuman02-15.png', 'valhuman02-02.png', 'valhuman04-13.png', 'valhuman01-22.png', 'valhuman04-09.png', 'valhuman05-06.png', 'valhuman05-24.png', 'valhuman04-05.png', 'valhuman05-16.png']\n"
          ]
        }
      ]
    },
    {
      "cell_type": "code",
      "source": [
        "print(\"Total training horse images :\", len(os.listdir(train_horse_dir)))\n",
        "print(\"Total training human images :\", len(os.listdir(train_human_dir)))\n",
        "print(\"Validation training horse images :\", len(os.listdir(val_horse_dir)))\n",
        "print(\"Validation training human images :\", len(os.listdir(val_human_dir)))"
      ],
      "metadata": {
        "id": "G01XjQRBWnQV",
        "colab": {
          "base_uri": "https://localhost:8080/"
        },
        "outputId": "7396fe26-1ba2-427a-ccb8-99392e69535d"
      },
      "execution_count": 7,
      "outputs": [
        {
          "output_type": "stream",
          "name": "stdout",
          "text": [
            "Total training horse images : 500\n",
            "Total training human images : 527\n",
            "Validation training horse images : 128\n",
            "Validation training human images : 128\n"
          ]
        }
      ]
    },
    {
      "cell_type": "markdown",
      "source": [
        "## Define and compile the model"
      ],
      "metadata": {
        "id": "_ZmfBzW7S3y0"
      }
    },
    {
      "cell_type": "code",
      "source": [
        "import tensorflow as tf\n",
        "\n",
        "model = tf.keras.models.Sequential([\n",
        "    # 1st convolution\n",
        "    tf.keras.layers.Conv2D(16, (3,3), activation='relu', input_shape=(300,300,3)),\n",
        "    tf.keras.layers.MaxPooling2D(2,2),\n",
        "\n",
        "    # 2nd convolution\n",
        "    tf.keras.layers.Conv2D(32, (3,3), activation='relu'),\n",
        "    tf.keras.layers.MaxPooling2D(2,2),\n",
        "\n",
        "    # 3rd convolution\n",
        "    tf.keras.layers.Conv2D(64, (3,3), activation='relu'),\n",
        "    tf.keras.layers.MaxPooling2D(2,2),\n",
        "\n",
        "    # 4th convolution\n",
        "    tf.keras.layers.Conv2D(64, (3,3), activation='relu'),\n",
        "    tf.keras.layers.MaxPooling2D(2,2),\n",
        "\n",
        "    # 5th convolution\n",
        "    tf.keras.layers.Conv2D(64, (3,3), activation='relu'),\n",
        "    tf.keras.layers.MaxPooling2D(2,2),\n",
        "\n",
        "    #DNN\n",
        "    tf.keras.layers.Flatten(),\n",
        "    tf.keras.layers.Dense(512, activation='relu'),\n",
        "    tf.keras.layers.Dense(1, activation='sigmoid')\n",
        "    # Only 1 output neuron. It will contain a value from 0-1 where 0 for 1 class ('horses') and 1 for the other ('humans')\n",
        "])"
      ],
      "metadata": {
        "id": "hkuLmOqaTgDt"
      },
      "execution_count": null,
      "outputs": []
    },
    {
      "cell_type": "code",
      "source": [
        "model.summary()"
      ],
      "metadata": {
        "id": "P-b8y5zAsWzo"
      },
      "execution_count": null,
      "outputs": []
    },
    {
      "cell_type": "code",
      "source": [
        "from tensorflow.keras.optimizers import RMSprop\n",
        "\n",
        "model.compile(loss = 'binary_crossentropy',\n",
        "              optimizer = RMSprop(learning_rate=0.001),\n",
        "              metrics=['accuracy'])"
      ],
      "metadata": {
        "id": "cIeOWNgYsWuk"
      },
      "execution_count": null,
      "outputs": []
    },
    {
      "cell_type": "markdown",
      "source": [
        "## ImageDataGenerator"
      ],
      "metadata": {
        "id": "rHSySojJTnrj"
      }
    },
    {
      "cell_type": "code",
      "source": [
        "from tensorflow.keras.preprocessing.image import ImageDataGenerator\n",
        "\n",
        "# Imgs will be rescaled by 1/255\n",
        "train_datagen = ImageDataGenerator(rescale=1/255)\n",
        "val_datagen = ImageDataGenerator(rescale=1/255)\n",
        "\n",
        "# Flow training images in batches of 128 using train_datagen generator\n",
        "train_generator = train_datagen.flow_from_directory(\n",
        "    './horse-or-human/',\n",
        "    target_size=(300,300),\n",
        "    batch_size=128,\n",
        "    class_mode='binary'\n",
        "    # Since I used binary_crossentropy loss, I need binary labels\n",
        ")\n",
        "\n",
        "# Flow validation images in batches of 32 using val_datagen generator\n",
        "val_generator = val_datagen.flow_from_directory(\n",
        "    './validation-horse-or-human',\n",
        "    target_size=(300,300),\n",
        "    batch_size=32,\n",
        "    class_mode='binary')"
      ],
      "metadata": {
        "id": "BBfUHWWqTq5u"
      },
      "execution_count": null,
      "outputs": []
    },
    {
      "cell_type": "markdown",
      "source": [
        "## Training"
      ],
      "metadata": {
        "id": "gUBLBYgxTuNb"
      }
    },
    {
      "cell_type": "code",
      "source": [
        "history = model.fit(\n",
        "    train_generator,\n",
        "    steps_per_epoch = 8,\n",
        "    epochs = 15,\n",
        "    verbose = 1,\n",
        "    validation_data = val_generator,\n",
        "    validation_steps = 8)"
      ],
      "metadata": {
        "id": "LFLBjaLvTvov"
      },
      "execution_count": null,
      "outputs": []
    },
    {
      "cell_type": "markdown",
      "source": [
        "## Model prediction"
      ],
      "metadata": {
        "id": "7dC4ITtZTwKn"
      }
    },
    {
      "cell_type": "markdown",
      "source": [
        "The code block below can be used in google colab to classify an image that you upload from your computer. So, download the notebook, and run it in google colab. Upload your image or any image and find out whether the model thinks the image is of a horse or a human."
      ],
      "metadata": {
        "id": "4icHmZ6w_kwc"
      }
    },
    {
      "cell_type": "code",
      "source": [
        "import numpy as np\n",
        "from google.colab import files\n",
        "from tensorflow.keras.utils import load_img, img_to_array\n",
        "\n",
        "uploaded = files.upload()\n",
        "\n",
        "for fn in uploaded.keys():\n",
        "    # predicting images\n",
        "    path = '/content/' + fn\n",
        "    img = load_img(path, target_size=(300,300))\n",
        "    x = img_to_array(img)\n",
        "    x = np.expand_dims(x, axis=0)\n",
        "\n",
        "    images = np.vstack([x])\n",
        "    classes = model.predict(images, batch_size=10)\n",
        "    print(classes[0])\n",
        "    if classes[0] > 0.5:\n",
        "        print(fn + \" is a human\")\n",
        "    else:\n",
        "        print(fn + \" is a horse\")"
      ],
      "metadata": {
        "id": "njgUYtivT0S3"
      },
      "execution_count": null,
      "outputs": []
    }
  ]
}