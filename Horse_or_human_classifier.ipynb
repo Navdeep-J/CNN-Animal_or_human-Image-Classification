{
  "nbformat": 4,
  "nbformat_minor": 0,
  "metadata": {
    "colab": {
      "provenance": [],
      "gpuType": "T4"
    },
    "kernelspec": {
      "name": "python3",
      "display_name": "Python 3"
    },
    "language_info": {
      "name": "python"
    },
    "accelerator": "GPU"
  },
  "cells": [
    {
      "cell_type": "markdown",
      "source": [
        "# CNN IMAGE CLASSIFICATION HORSE OR HUMAN"
      ],
      "metadata": {
        "id": "6DTsLuz9S3tv"
      }
    },
    {
      "cell_type": "markdown",
      "source": [
        "## Download dataset\n",
        "\n",
        "Let's download the training and validation datasets."
      ],
      "metadata": {
        "id": "z0y-rQRXS3w2"
      }
    },
    {
      "cell_type": "code",
      "execution_count": 1,
      "metadata": {
        "id": "xEbnmMa1oTPV",
        "colab": {
          "base_uri": "https://localhost:8080/"
        },
        "outputId": "e3067e9b-e49e-42c6-dd41-3d34eff2a28a"
      },
      "outputs": [
        {
          "output_type": "stream",
          "name": "stdout",
          "text": [
            "--2023-09-11 07:42:22--  https://storage.googleapis.com/tensorflow-1-public/course2/week3/horse-or-human.zip\n",
            "Resolving storage.googleapis.com (storage.googleapis.com)... 64.233.182.207, 64.233.183.207, 173.194.193.207, ...\n",
            "Connecting to storage.googleapis.com (storage.googleapis.com)|64.233.182.207|:443... connected.\n",
            "HTTP request sent, awaiting response... 200 OK\n",
            "Length: 149574867 (143M) [application/zip]\n",
            "Saving to: ‘horse-or-human.zip’\n",
            "\n",
            "horse-or-human.zip  100%[===================>] 142.65M   164MB/s    in 0.9s    \n",
            "\n",
            "2023-09-11 07:42:23 (164 MB/s) - ‘horse-or-human.zip’ saved [149574867/149574867]\n",
            "\n"
          ]
        }
      ],
      "source": [
        "# Traing dataset\n",
        "!wget https://storage.googleapis.com/tensorflow-1-public/course2/week3/horse-or-human.zip"
      ]
    },
    {
      "cell_type": "code",
      "source": [
        "# Validation dataset\n",
        "!wget https://storage.googleapis.com/tensorflow-1-public/course2/week3/validation-horse-or-human.zip"
      ],
      "metadata": {
        "id": "UibkkY7KWhBx",
        "outputId": "c1939ad6-a38d-47a3-b7fa-4978bcd49c8b",
        "colab": {
          "base_uri": "https://localhost:8080/"
        }
      },
      "execution_count": 2,
      "outputs": [
        {
          "output_type": "stream",
          "name": "stdout",
          "text": [
            "--2023-09-11 07:42:23--  https://storage.googleapis.com/tensorflow-1-public/course2/week3/validation-horse-or-human.zip\n",
            "Resolving storage.googleapis.com (storage.googleapis.com)... 64.233.182.207, 64.233.183.207, 173.194.193.207, ...\n",
            "Connecting to storage.googleapis.com (storage.googleapis.com)|64.233.182.207|:443... connected.\n",
            "HTTP request sent, awaiting response... 200 OK\n",
            "Length: 11480187 (11M) [application/zip]\n",
            "Saving to: ‘validation-horse-or-human.zip’\n",
            "\n",
            "validation-horse-or 100%[===================>]  10.95M  --.-KB/s    in 0.08s   \n",
            "\n",
            "2023-09-11 07:42:23 (134 MB/s) - ‘validation-horse-or-human.zip’ saved [11480187/11480187]\n",
            "\n"
          ]
        }
      ]
    },
    {
      "cell_type": "markdown",
      "source": [
        "### Unzipping the dataset:"
      ],
      "metadata": {
        "id": "Ws4d_17mWrwQ"
      }
    },
    {
      "cell_type": "code",
      "source": [
        "import zipfile\n",
        "\n",
        "# Unzip training dataset\n",
        "local_zip = './horse-or-human.zip'\n",
        "zip_ref = zipfile.ZipFile(local_zip,'r')\n",
        "zip_ref.extractall('./horse-or-human')\n",
        "\n",
        "# Unzip validation dataset\n",
        "local_zip = './validation-horse-or-human.zip'\n",
        "zip_ref = zipfile.ZipFile(local_zip,'r')\n",
        "zip_ref.extractall('./validation-horse-or-human')"
      ],
      "metadata": {
        "id": "AJ9CjRUaWnb8"
      },
      "execution_count": 3,
      "outputs": []
    },
    {
      "cell_type": "markdown",
      "source": [
        "Now, define the directories containing the images:"
      ],
      "metadata": {
        "id": "nCmxj2Y_Zhsb"
      }
    },
    {
      "cell_type": "code",
      "source": [
        "import os\n",
        "\n",
        "# Directory with training horse pictures\n",
        "train_horse_dir = os.path.join('./horse-or-human/horses')\n",
        "\n",
        "# Directory with training human pictures\n",
        "train_human_dir = os.path.join('./horse-or-human/humans')\n",
        "\n",
        "# Direcctory with validation horse pictures\n",
        "val_horse_dir = os.path.join('./validation-horse-or-human/horses')\n",
        "\n",
        "# Directory with validation human pictures\n",
        "val_human_dir = os.path.join('./validation-horse-or-human/humans')"
      ],
      "metadata": {
        "id": "EsH9PGUzWnW1"
      },
      "execution_count": 4,
      "outputs": []
    },
    {
      "cell_type": "code",
      "source": [
        "train_horse_names = os.listdir(train_horse_dir)\n",
        "print(\"Train dataset horses :\",train_horse_names[:10])\n",
        "\n",
        "train_human_names = os.listdir(train_human_dir)\n",
        "print(\"Train dataset humans :\",train_human_names[:10])\n",
        "\n",
        "val_horse_names = os.listdir(val_horse_dir)\n",
        "print(\"validation dataset horses :\",val_horse_names[:10])\n",
        "\n",
        "val_human_names = os.listdir(val_human_dir)\n",
        "print(\"Validation dataset humans :\",val_human_names[:10])"
      ],
      "metadata": {
        "id": "VEtMzI98WnTw",
        "colab": {
          "base_uri": "https://localhost:8080/"
        },
        "outputId": "3b582453-1fdd-4ee5-c961-afa04cae04f4"
      },
      "execution_count": 5,
      "outputs": [
        {
          "output_type": "stream",
          "name": "stdout",
          "text": [
            "Train dataset horses : ['horse37-0.png', 'horse40-2.png', 'horse40-7.png', 'horse50-4.png', 'horse44-2.png', 'horse16-2.png', 'horse40-0.png', 'horse02-8.png', 'horse32-2.png', 'horse33-6.png']\n",
            "Train dataset humans : ['human09-13.png', 'human15-10.png', 'human09-26.png', 'human01-29.png', 'human08-05.png', 'human16-29.png', 'human09-15.png', 'human15-27.png', 'human15-11.png', 'human14-28.png']\n",
            "validation dataset horses : ['horse1-539.png', 'horse5-405.png', 'horse2-183.png', 'horse4-468.png', 'horse4-188.png', 'horse1-298.png', 'horse4-495.png', 'horse5-164.png', 'horse3-026.png', 'horse3-484.png']\n",
            "Validation dataset humans : ['valhuman01-16.png', 'valhuman03-22.png', 'valhuman05-19.png', 'valhuman01-09.png', 'valhuman05-10.png', 'valhuman02-00.png', 'valhuman05-22.png', 'valhuman05-09.png', 'valhuman04-20.png', 'valhuman01-01.png']\n"
          ]
        }
      ]
    },
    {
      "cell_type": "code",
      "source": [
        "print(\"Total training horse images :\", len(os.listdir(train_horse_dir)))\n",
        "print(\"Total training human images :\", len(os.listdir(train_human_dir)))\n",
        "print(\"Validation training horse images :\", len(os.listdir(val_horse_dir)))\n",
        "print(\"Validation training human images :\", len(os.listdir(val_human_dir)))"
      ],
      "metadata": {
        "id": "G01XjQRBWnQV",
        "colab": {
          "base_uri": "https://localhost:8080/"
        },
        "outputId": "fede8a53-276e-45bf-cd5e-d815a1bc0ff8"
      },
      "execution_count": 6,
      "outputs": [
        {
          "output_type": "stream",
          "name": "stdout",
          "text": [
            "Total training horse images : 500\n",
            "Total training human images : 527\n",
            "Validation training horse images : 128\n",
            "Validation training human images : 128\n"
          ]
        }
      ]
    },
    {
      "cell_type": "markdown",
      "source": [
        "## Define and compile the model"
      ],
      "metadata": {
        "id": "_ZmfBzW7S3y0"
      }
    },
    {
      "cell_type": "code",
      "source": [
        "import tensorflow as tf\n",
        "\n",
        "model = tf.keras.models.Sequential([\n",
        "    # 1st convolution\n",
        "    tf.keras.layers.Conv2D(16, (3,3), activation='relu', input_shape=(300,300,3)),\n",
        "    tf.keras.layers.MaxPooling2D(2,2),\n",
        "\n",
        "    # 2nd convolution\n",
        "    tf.keras.layers.Conv2D(32, (3,3), activation='relu'),\n",
        "    tf.keras.layers.MaxPooling2D(2,2),\n",
        "\n",
        "    # 3rd convolution\n",
        "    tf.keras.layers.Conv2D(64, (3,3), activation='relu'),\n",
        "    tf.keras.layers.MaxPooling2D(2,2),\n",
        "\n",
        "    # 4th convolution\n",
        "    tf.keras.layers.Conv2D(64, (3,3), activation='relu'),\n",
        "    tf.keras.layers.MaxPooling2D(2,2),\n",
        "\n",
        "    # 5th convolution\n",
        "    tf.keras.layers.Conv2D(64, (3,3), activation='relu'),\n",
        "    tf.keras.layers.MaxPooling2D(2,2),\n",
        "\n",
        "    #DNN\n",
        "    tf.keras.layers.Flatten(),\n",
        "    tf.keras.layers.Dense(512, activation='relu'),\n",
        "    tf.keras.layers.Dense(1, activation='sigmoid')\n",
        "    # Only 1 output neuron. It will contain a value from 0-1 where 0 for 1 class ('horses') and 1 for the other ('humans')\n",
        "])"
      ],
      "metadata": {
        "id": "hkuLmOqaTgDt"
      },
      "execution_count": 7,
      "outputs": []
    },
    {
      "cell_type": "code",
      "source": [
        "model.summary()"
      ],
      "metadata": {
        "colab": {
          "base_uri": "https://localhost:8080/"
        },
        "id": "P-b8y5zAsWzo",
        "outputId": "7fe5c2c4-232d-4b5e-a933-cc7e46bee821"
      },
      "execution_count": 8,
      "outputs": [
        {
          "output_type": "stream",
          "name": "stdout",
          "text": [
            "Model: \"sequential\"\n",
            "_________________________________________________________________\n",
            " Layer (type)                Output Shape              Param #   \n",
            "=================================================================\n",
            " conv2d (Conv2D)             (None, 298, 298, 16)      448       \n",
            "                                                                 \n",
            " max_pooling2d (MaxPooling2  (None, 149, 149, 16)      0         \n",
            " D)                                                              \n",
            "                                                                 \n",
            " conv2d_1 (Conv2D)           (None, 147, 147, 32)      4640      \n",
            "                                                                 \n",
            " max_pooling2d_1 (MaxPoolin  (None, 73, 73, 32)        0         \n",
            " g2D)                                                            \n",
            "                                                                 \n",
            " conv2d_2 (Conv2D)           (None, 71, 71, 64)        18496     \n",
            "                                                                 \n",
            " max_pooling2d_2 (MaxPoolin  (None, 35, 35, 64)        0         \n",
            " g2D)                                                            \n",
            "                                                                 \n",
            " conv2d_3 (Conv2D)           (None, 33, 33, 64)        36928     \n",
            "                                                                 \n",
            " max_pooling2d_3 (MaxPoolin  (None, 16, 16, 64)        0         \n",
            " g2D)                                                            \n",
            "                                                                 \n",
            " conv2d_4 (Conv2D)           (None, 14, 14, 64)        36928     \n",
            "                                                                 \n",
            " max_pooling2d_4 (MaxPoolin  (None, 7, 7, 64)          0         \n",
            " g2D)                                                            \n",
            "                                                                 \n",
            " flatten (Flatten)           (None, 3136)              0         \n",
            "                                                                 \n",
            " dense (Dense)               (None, 512)               1606144   \n",
            "                                                                 \n",
            " dense_1 (Dense)             (None, 1)                 513       \n",
            "                                                                 \n",
            "=================================================================\n",
            "Total params: 1704097 (6.50 MB)\n",
            "Trainable params: 1704097 (6.50 MB)\n",
            "Non-trainable params: 0 (0.00 Byte)\n",
            "_________________________________________________________________\n"
          ]
        }
      ]
    },
    {
      "cell_type": "code",
      "source": [
        "from tensorflow.keras.optimizers import RMSprop\n",
        "\n",
        "model.compile(loss = 'binary_crossentropy',\n",
        "              optimizer = RMSprop(learning_rate=0.001),\n",
        "              metrics=['accuracy'])"
      ],
      "metadata": {
        "id": "cIeOWNgYsWuk"
      },
      "execution_count": 9,
      "outputs": []
    },
    {
      "cell_type": "markdown",
      "source": [
        "## ImageDataGenerator"
      ],
      "metadata": {
        "id": "rHSySojJTnrj"
      }
    },
    {
      "cell_type": "code",
      "source": [
        "from tensorflow.keras.preprocessing.image import ImageDataGenerator\n",
        "\n",
        "# Imgs will be rescaled by 1/255\n",
        "train_datagen = ImageDataGenerator(rescale=1/255)\n",
        "val_datagen = ImageDataGenerator(rescale=1/255)\n",
        "\n",
        "# Flow training images in batches of 128 using train_datagen generator\n",
        "train_generator = train_datagen.flow_from_directory(\n",
        "    './horse-or-human/',\n",
        "    target_size=(300,300),\n",
        "    batch_size=128,\n",
        "    class_mode='binary'\n",
        "    # Since I used binary_crossentropy loss, I need binary labels\n",
        ")\n",
        "\n",
        "# Flow validation images in batches of 32 using val_datagen generator\n",
        "val_generator = val_datagen.flow_from_directory(\n",
        "    './validation-horse-or-human',\n",
        "    target_size=(300,300),\n",
        "    batch_size=32,\n",
        "    class_mode='binary')"
      ],
      "metadata": {
        "id": "BBfUHWWqTq5u",
        "colab": {
          "base_uri": "https://localhost:8080/"
        },
        "outputId": "91517978-e0de-449f-862b-86bc487c85ac"
      },
      "execution_count": 10,
      "outputs": [
        {
          "output_type": "stream",
          "name": "stdout",
          "text": [
            "Found 1027 images belonging to 2 classes.\n",
            "Found 256 images belonging to 2 classes.\n"
          ]
        }
      ]
    },
    {
      "cell_type": "markdown",
      "source": [
        "## Training"
      ],
      "metadata": {
        "id": "gUBLBYgxTuNb"
      }
    },
    {
      "cell_type": "code",
      "source": [
        "history = model.fit(\n",
        "    train_generator,\n",
        "    steps_per_epoch = 8,\n",
        "    epochs = 15,\n",
        "    verbose = 1,\n",
        "    validation_data = val_generator,\n",
        "    validation_steps = 8)"
      ],
      "metadata": {
        "id": "LFLBjaLvTvov",
        "colab": {
          "base_uri": "https://localhost:8080/"
        },
        "outputId": "7da3453a-8e31-4791-c1c4-88b25656e779"
      },
      "execution_count": 11,
      "outputs": [
        {
          "output_type": "stream",
          "name": "stdout",
          "text": [
            "Epoch 1/15\n",
            "8/8 [==============================] - 26s 1s/step - loss: 0.7017 - accuracy: 0.5098 - val_loss: 0.6816 - val_accuracy: 0.5234\n",
            "Epoch 2/15\n",
            "8/8 [==============================] - 10s 1s/step - loss: 0.6834 - accuracy: 0.5729 - val_loss: 0.5891 - val_accuracy: 0.8945\n",
            "Epoch 3/15\n",
            "8/8 [==============================] - 8s 1s/step - loss: 0.7892 - accuracy: 0.6863 - val_loss: 1.0559 - val_accuracy: 0.5391\n",
            "Epoch 4/15\n",
            "8/8 [==============================] - 9s 1s/step - loss: 0.6139 - accuracy: 0.7553 - val_loss: 0.4548 - val_accuracy: 0.8594\n",
            "Epoch 5/15\n",
            "8/8 [==============================] - 9s 1s/step - loss: 0.3139 - accuracy: 0.8799 - val_loss: 0.3274 - val_accuracy: 0.8984\n",
            "Epoch 6/15\n",
            "8/8 [==============================] - 10s 1s/step - loss: 0.4219 - accuracy: 0.8555 - val_loss: 0.7802 - val_accuracy: 0.8398\n",
            "Epoch 7/15\n",
            "8/8 [==============================] - 9s 1s/step - loss: 0.1858 - accuracy: 0.9321 - val_loss: 1.1539 - val_accuracy: 0.8281\n",
            "Epoch 8/15\n",
            "8/8 [==============================] - 9s 1s/step - loss: 0.1714 - accuracy: 0.9385 - val_loss: 0.9102 - val_accuracy: 0.8477\n",
            "Epoch 9/15\n",
            "8/8 [==============================] - 10s 1s/step - loss: 0.1321 - accuracy: 0.9453 - val_loss: 2.8912 - val_accuracy: 0.6914\n",
            "Epoch 10/15\n",
            "8/8 [==============================] - 9s 1s/step - loss: 0.2460 - accuracy: 0.9132 - val_loss: 0.8990 - val_accuracy: 0.8438\n",
            "Epoch 11/15\n",
            "8/8 [==============================] - 9s 1s/step - loss: 0.0634 - accuracy: 0.9733 - val_loss: 2.6623 - val_accuracy: 0.7734\n",
            "Epoch 12/15\n",
            "8/8 [==============================] - 9s 1s/step - loss: 0.2775 - accuracy: 0.8975 - val_loss: 0.9868 - val_accuracy: 0.8555\n",
            "Epoch 13/15\n",
            "8/8 [==============================] - 9s 1s/step - loss: 0.2902 - accuracy: 0.9143 - val_loss: 0.9170 - val_accuracy: 0.8477\n",
            "Epoch 14/15\n",
            "8/8 [==============================] - 9s 1s/step - loss: 0.1545 - accuracy: 0.9433 - val_loss: 0.9262 - val_accuracy: 0.8594\n",
            "Epoch 15/15\n",
            "8/8 [==============================] - 9s 1s/step - loss: 0.0503 - accuracy: 0.9822 - val_loss: 1.3428 - val_accuracy: 0.8281\n"
          ]
        }
      ]
    },
    {
      "cell_type": "markdown",
      "source": [
        "## Model prediction"
      ],
      "metadata": {
        "id": "7dC4ITtZTwKn"
      }
    },
    {
      "cell_type": "markdown",
      "source": [
        "The code block below can be used in google colab to classify an image that you upload from your computer. So, download the notebook, and run it in google colab. Upload your image or any image and find out whether the model thinks the image is of a horse or a human."
      ],
      "metadata": {
        "id": "4icHmZ6w_kwc"
      }
    },
    {
      "cell_type": "code",
      "source": [
        "import numpy as np\n",
        "from google.colab import files\n",
        "from tensorflow.keras.utils import load_img, img_to_array\n",
        "\n",
        "uploaded = files.upload()\n",
        "\n",
        "for fn in uploaded.keys():\n",
        "    # predicting images\n",
        "    path = '/content/' + fn\n",
        "    img = load_img(path, target_size=(300,300))\n",
        "    x = img_to_array(img)\n",
        "    x = np.expand_dims(x, axis=0)\n",
        "\n",
        "    images = np.vstack([x])\n",
        "    classes = model.predict(images, batch_size=10)\n",
        "    print(classes[0])\n",
        "    if classes[0] > 0.5:\n",
        "        print(fn + \" is a human\")\n",
        "    else:\n",
        "        print(fn + \" is a horse\")"
      ],
      "metadata": {
        "id": "njgUYtivT0S3",
        "colab": {
          "base_uri": "https://localhost:8080/",
          "height": 125
        },
        "outputId": "943538d4-e8ba-4897-ce16-e4e5913c6df1"
      },
      "execution_count": 14,
      "outputs": [
        {
          "output_type": "display_data",
          "data": {
            "text/plain": [
              "<IPython.core.display.HTML object>"
            ],
            "text/html": [
              "\n",
              "     <input type=\"file\" id=\"files-10db3117-0fa1-4e25-8fe9-0f60bd7deaa1\" name=\"files[]\" multiple disabled\n",
              "        style=\"border:none\" />\n",
              "     <output id=\"result-10db3117-0fa1-4e25-8fe9-0f60bd7deaa1\">\n",
              "      Upload widget is only available when the cell has been executed in the\n",
              "      current browser session. Please rerun this cell to enable.\n",
              "      </output>\n",
              "      <script>// Copyright 2017 Google LLC\n",
              "//\n",
              "// Licensed under the Apache License, Version 2.0 (the \"License\");\n",
              "// you may not use this file except in compliance with the License.\n",
              "// You may obtain a copy of the License at\n",
              "//\n",
              "//      http://www.apache.org/licenses/LICENSE-2.0\n",
              "//\n",
              "// Unless required by applicable law or agreed to in writing, software\n",
              "// distributed under the License is distributed on an \"AS IS\" BASIS,\n",
              "// WITHOUT WARRANTIES OR CONDITIONS OF ANY KIND, either express or implied.\n",
              "// See the License for the specific language governing permissions and\n",
              "// limitations under the License.\n",
              "\n",
              "/**\n",
              " * @fileoverview Helpers for google.colab Python module.\n",
              " */\n",
              "(function(scope) {\n",
              "function span(text, styleAttributes = {}) {\n",
              "  const element = document.createElement('span');\n",
              "  element.textContent = text;\n",
              "  for (const key of Object.keys(styleAttributes)) {\n",
              "    element.style[key] = styleAttributes[key];\n",
              "  }\n",
              "  return element;\n",
              "}\n",
              "\n",
              "// Max number of bytes which will be uploaded at a time.\n",
              "const MAX_PAYLOAD_SIZE = 100 * 1024;\n",
              "\n",
              "function _uploadFiles(inputId, outputId) {\n",
              "  const steps = uploadFilesStep(inputId, outputId);\n",
              "  const outputElement = document.getElementById(outputId);\n",
              "  // Cache steps on the outputElement to make it available for the next call\n",
              "  // to uploadFilesContinue from Python.\n",
              "  outputElement.steps = steps;\n",
              "\n",
              "  return _uploadFilesContinue(outputId);\n",
              "}\n",
              "\n",
              "// This is roughly an async generator (not supported in the browser yet),\n",
              "// where there are multiple asynchronous steps and the Python side is going\n",
              "// to poll for completion of each step.\n",
              "// This uses a Promise to block the python side on completion of each step,\n",
              "// then passes the result of the previous step as the input to the next step.\n",
              "function _uploadFilesContinue(outputId) {\n",
              "  const outputElement = document.getElementById(outputId);\n",
              "  const steps = outputElement.steps;\n",
              "\n",
              "  const next = steps.next(outputElement.lastPromiseValue);\n",
              "  return Promise.resolve(next.value.promise).then((value) => {\n",
              "    // Cache the last promise value to make it available to the next\n",
              "    // step of the generator.\n",
              "    outputElement.lastPromiseValue = value;\n",
              "    return next.value.response;\n",
              "  });\n",
              "}\n",
              "\n",
              "/**\n",
              " * Generator function which is called between each async step of the upload\n",
              " * process.\n",
              " * @param {string} inputId Element ID of the input file picker element.\n",
              " * @param {string} outputId Element ID of the output display.\n",
              " * @return {!Iterable<!Object>} Iterable of next steps.\n",
              " */\n",
              "function* uploadFilesStep(inputId, outputId) {\n",
              "  const inputElement = document.getElementById(inputId);\n",
              "  inputElement.disabled = false;\n",
              "\n",
              "  const outputElement = document.getElementById(outputId);\n",
              "  outputElement.innerHTML = '';\n",
              "\n",
              "  const pickedPromise = new Promise((resolve) => {\n",
              "    inputElement.addEventListener('change', (e) => {\n",
              "      resolve(e.target.files);\n",
              "    });\n",
              "  });\n",
              "\n",
              "  const cancel = document.createElement('button');\n",
              "  inputElement.parentElement.appendChild(cancel);\n",
              "  cancel.textContent = 'Cancel upload';\n",
              "  const cancelPromise = new Promise((resolve) => {\n",
              "    cancel.onclick = () => {\n",
              "      resolve(null);\n",
              "    };\n",
              "  });\n",
              "\n",
              "  // Wait for the user to pick the files.\n",
              "  const files = yield {\n",
              "    promise: Promise.race([pickedPromise, cancelPromise]),\n",
              "    response: {\n",
              "      action: 'starting',\n",
              "    }\n",
              "  };\n",
              "\n",
              "  cancel.remove();\n",
              "\n",
              "  // Disable the input element since further picks are not allowed.\n",
              "  inputElement.disabled = true;\n",
              "\n",
              "  if (!files) {\n",
              "    return {\n",
              "      response: {\n",
              "        action: 'complete',\n",
              "      }\n",
              "    };\n",
              "  }\n",
              "\n",
              "  for (const file of files) {\n",
              "    const li = document.createElement('li');\n",
              "    li.append(span(file.name, {fontWeight: 'bold'}));\n",
              "    li.append(span(\n",
              "        `(${file.type || 'n/a'}) - ${file.size} bytes, ` +\n",
              "        `last modified: ${\n",
              "            file.lastModifiedDate ? file.lastModifiedDate.toLocaleDateString() :\n",
              "                                    'n/a'} - `));\n",
              "    const percent = span('0% done');\n",
              "    li.appendChild(percent);\n",
              "\n",
              "    outputElement.appendChild(li);\n",
              "\n",
              "    const fileDataPromise = new Promise((resolve) => {\n",
              "      const reader = new FileReader();\n",
              "      reader.onload = (e) => {\n",
              "        resolve(e.target.result);\n",
              "      };\n",
              "      reader.readAsArrayBuffer(file);\n",
              "    });\n",
              "    // Wait for the data to be ready.\n",
              "    let fileData = yield {\n",
              "      promise: fileDataPromise,\n",
              "      response: {\n",
              "        action: 'continue',\n",
              "      }\n",
              "    };\n",
              "\n",
              "    // Use a chunked sending to avoid message size limits. See b/62115660.\n",
              "    let position = 0;\n",
              "    do {\n",
              "      const length = Math.min(fileData.byteLength - position, MAX_PAYLOAD_SIZE);\n",
              "      const chunk = new Uint8Array(fileData, position, length);\n",
              "      position += length;\n",
              "\n",
              "      const base64 = btoa(String.fromCharCode.apply(null, chunk));\n",
              "      yield {\n",
              "        response: {\n",
              "          action: 'append',\n",
              "          file: file.name,\n",
              "          data: base64,\n",
              "        },\n",
              "      };\n",
              "\n",
              "      let percentDone = fileData.byteLength === 0 ?\n",
              "          100 :\n",
              "          Math.round((position / fileData.byteLength) * 100);\n",
              "      percent.textContent = `${percentDone}% done`;\n",
              "\n",
              "    } while (position < fileData.byteLength);\n",
              "  }\n",
              "\n",
              "  // All done.\n",
              "  yield {\n",
              "    response: {\n",
              "      action: 'complete',\n",
              "    }\n",
              "  };\n",
              "}\n",
              "\n",
              "scope.google = scope.google || {};\n",
              "scope.google.colab = scope.google.colab || {};\n",
              "scope.google.colab._files = {\n",
              "  _uploadFiles,\n",
              "  _uploadFilesContinue,\n",
              "};\n",
              "})(self);\n",
              "</script> "
            ]
          },
          "metadata": {}
        },
        {
          "output_type": "stream",
          "name": "stdout",
          "text": [
            "Saving mark zuckerberg.jpeg to mark zuckerberg.jpeg\n",
            "1/1 [==============================] - 0s 20ms/step\n",
            "[1.]\n",
            "mark zuckerberg.jpeg is a human\n"
          ]
        }
      ]
    }
  ]
}